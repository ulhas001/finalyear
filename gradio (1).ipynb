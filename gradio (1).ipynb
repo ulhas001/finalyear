{
 "cells": [
  {
   "cell_type": "code",
   "execution_count": 1,
   "id": "30faec26",
   "metadata": {},
   "outputs": [
    {
     "name": "stderr",
     "output_type": "stream",
     "text": [
      "C:\\Users\\Ulhas\\AppData\\Local\\Packages\\PythonSoftwareFoundation.Python.3.10_qbz5n2kfra8p0\\LocalCache\\local-packages\\Python310\\site-packages\\tqdm\\auto.py:21: TqdmWarning: IProgress not found. Please update jupyter and ipywidgets. See https://ipywidgets.readthedocs.io/en/stable/user_install.html\n",
      "  from .autonotebook import tqdm as notebook_tqdm\n"
     ]
    }
   ],
   "source": [
    "import gradio as gr\n",
    "import tensorflow as tf\n",
    "from tensorflow import keras\n",
    "import numpy as np\n",
    "import requests\n",
    "from keras.models import load_model\n",
    "from keras.preprocessing import image\n",
    "from keras.applications.vgg16 import preprocess_input"
   ]
  },
  {
   "cell_type": "code",
   "execution_count": 7,
   "id": "4bb9efae",
   "metadata": {},
   "outputs": [],
   "source": [
    "model = load_model(r'D:/projectBE/finalmodel.h5')"
   ]
  },
  {
   "cell_type": "code",
   "execution_count": 8,
   "id": "08fc8512",
   "metadata": {},
   "outputs": [],
   "source": [
    "class_names = [\"BACTERIALPNEUMONIA\",\"COVID19\",\"NORMAL\",\"PNEUMONIA\",\"TUBERCULOSIS\",\"VIRALPNEUMONIA\"]\n",
    "def example(image):\n",
    "    image = image.reshape((-1, 224, 224, 3))\n",
    "    image = tf.keras.applications.inception_v3.preprocess_input(image)\n",
    "    prediction = model.predict(image).flatten()\n",
    "    return {class_names[i]: float(prediction[i]) for i in range(6)}\n"
   ]
  },
  {
   "cell_type": "code",
   "execution_count": 9,
   "id": "7af04fce",
   "metadata": {},
   "outputs": [],
   "source": [
    "image = gr.inputs.Image(shape = (224, 224)) \n",
    "label = gr.outputs.Label(num_top_classes = 6)"
   ]
  },
  {
   "cell_type": "code",
   "execution_count": 10,
   "id": "f764e305",
   "metadata": {
    "scrolled": false
   },
   "outputs": [
    {
     "name": "stderr",
     "output_type": "stream",
     "text": [
      "C:\\Users\\Ulhas\\AppData\\Local\\Packages\\PythonSoftwareFoundation.Python.3.10_qbz5n2kfra8p0\\LocalCache\\local-packages\\Python310\\site-packages\\gradio\\deprecation.py:40: UserWarning: `capture_session` parameter is deprecated, and it has no effect\n",
      "  warnings.warn(value)\n"
     ]
    },
    {
     "name": "stdout",
     "output_type": "stream",
     "text": [
      "Running on local URL:  http://127.0.0.1:7860\n",
      "Running on public URL: https://72aa70be296ab418e3.gradio.live\n",
      "\n",
      "This share link expires in 72 hours. For free permanent hosting and GPU upgrades (NEW!), check out Spaces: https://huggingface.co/spaces\n"
     ]
    },
    {
     "data": {
      "text/html": [
       "<div><iframe src=\"https://72aa70be296ab418e3.gradio.live\" width=\"100%\" height=\"500\" allow=\"autoplay; camera; microphone; clipboard-read; clipboard-write;\" frameborder=\"0\" allowfullscreen></iframe></div>"
      ],
      "text/plain": [
       "<IPython.core.display.HTML object>"
      ]
     },
     "metadata": {},
     "output_type": "display_data"
    },
    {
     "data": {
      "text/plain": []
     },
     "execution_count": 10,
     "metadata": {},
     "output_type": "execute_result"
    },
    {
     "name": "stdout",
     "output_type": "stream",
     "text": [
      "1/1 [==============================] - 0s 417ms/step\n"
     ]
    }
   ],
   "source": [
    "gr.Interface(fn = example,inputs = image,outputs = label,capture_session = True, title=\"Chest disease detection and classification\").launch(share=True)"
   ]
  },
  {
   "cell_type": "code",
   "execution_count": null,
   "id": "2d6719f5",
   "metadata": {},
   "outputs": [],
   "source": []
  }
 ],
 "metadata": {
  "kernelspec": {
   "display_name": "Python 3 (ipykernel)",
   "language": "python",
   "name": "python3"
  },
  "language_info": {
   "codemirror_mode": {
    "name": "ipython",
    "version": 3
   },
   "file_extension": ".py",
   "mimetype": "text/x-python",
   "name": "python",
   "nbconvert_exporter": "python",
   "pygments_lexer": "ipython3",
   "version": "3.10.11"
  }
 },
 "nbformat": 4,
 "nbformat_minor": 5
}
